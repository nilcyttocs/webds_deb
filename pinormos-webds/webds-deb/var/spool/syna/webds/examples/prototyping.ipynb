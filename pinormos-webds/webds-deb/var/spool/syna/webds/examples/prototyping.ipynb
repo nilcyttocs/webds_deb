{
 "cells": [
  {
   "cell_type": "markdown",
   "id": "d71115e0-b20d-4181-8dc5-b710ebdb9961",
   "metadata": {},
   "source": [
    "The example code below shows how to instantiate a Prompter object from the UIKit Python package and use it to prototype tuning/configuration procedures in an IPython notebook.\n",
    "\n",
    "By default, the output is generated directly below the code cell and the height of the output cell is 650px. These settings can be adjusted by passing in parameters when instantiating the Prompter object. For example, *prompter = Prompter(mode='jupyterlab')* generates the output in a separate tab in JupyterLab instead of directly below the code cell. The available parameters of Prompter are listed below.\n",
    "\n",
    "**mode** (default = 'inline')<br/>\n",
    "&emsp;'inline' - Generate output directly below code cell<br/>\n",
    "&emsp;'jupyterlab' - Generate output in separate tab in JupyterLab<br/>\n",
    "&emsp;'external' - Generate hyperlink for displaying output in separate browser tab\n",
    "\n",
    "**port** (default = 8050)<br/>\n",
    "&emsp;This parameter is for setting the port through which the output is served from the JupyterDash server running on the DSDK.\n",
    "\n",
    "**width** (default = '100%')<br/>\n",
    "&emsp;This parameter is for setting the width of the output cell.\n",
    "\n",
    "**height** (default = '650px')<br/>\n",
    "&emsp;This parameter is for setting the height of the output cell.\n",
    "\n",
    "**prompts** (<span style='color:#007dc3 '>*mandatory*</span>)<br/>\n",
    "&emsp;This parameter is a list of strings representing the prompt message to display at each step of the tuning/configuration procedures.\n",
    "\n",
    "**callbacks** (default = \\[ \\])<br/>\n",
    "&emsp;This parameter is a list of functions representing the callback to run at the completion of each step of the tuning/configuration procedures.\n",
    "\n",
    "**allow_back** (default = True)<br/>\n",
    "&emsp;This parameter is for setting whether the back operation is allowed.\n",
    "\n",
    "To terminate the tuning/configuration session, go to the Kernel main menu and do Restart Kernel.\n",
    "<br/><br/>\n",
    "***\n",
    "**Note**: The Prompter module makes use of JupyterDash, which by default is served from the DSDK through port 8050. This means that in order for tuning/configuratin prototyping to work, the \"adb forward\" command (e.g. \"adb forward tcp:8050 tcp:8050\" for port 8050) needs to be issued first from the host computer this browser is running on.<br/>\n",
    "**Note**: It is recommended to use either Firefox or Sarafi for running this tuning/configuratin prototyping feature.\n",
    "***"
   ]
  },
  {
   "cell_type": "code",
   "execution_count": null,
   "id": "c4cd125f-cc51-41ba-a8fb-bdd7da2cf432",
   "metadata": {},
   "outputs": [],
   "source": [
    "import time\n",
    "import import_ipynb\n",
    "from UIKit import Prompter\n",
    "from touchcomm import TouchComm\n",
    "\n",
    "def callback_1():\n",
    "    with TouchComm.make('report_streamer') as tc:\n",
    "        print(tc.identify())\n",
    "\n",
    "def callback_3():\n",
    "    time.sleep(2)\n",
    "    print('End of Callback 3')\n",
    "\n",
    "prompts = [\n",
    "    'This is the first step. Click Okay to retrieve the Identify report.',\n",
    "    'This is the second step. There is no callback for this step.',\n",
    "    'This is the third and final step. Click Okay to sleep for 2 seconds.'\n",
    "]\n",
    "\n",
    "callbacks = [\n",
    "    callback_1,\n",
    "    None,\n",
    "    callback_3\n",
    "]\n",
    "\n",
    "try:\n",
    "    prompter = Prompter(height='150px', prompts=prompts, callbacks=callbacks)\n",
    "    prompter.run()\n",
    "except Exception as e:\n",
    "    print(e)\n"
   ]
  }
 ],
 "metadata": {
  "kernelspec": {
   "display_name": "Python 3 (ipykernel)",
   "language": "python",
   "name": "python3"
  },
  "language_info": {
   "codemirror_mode": {
    "name": "ipython",
    "version": 3
   },
   "file_extension": ".py",
   "mimetype": "text/x-python",
   "name": "python",
   "nbconvert_exporter": "python",
   "pygments_lexer": "ipython3",
   "version": "3.7.3"
  }
 },
 "nbformat": 4,
 "nbformat_minor": 5
}
