{
 "cells": [
  {
   "cell_type": "markdown",
   "id": "d71115e0-b20d-4181-8dc5-b710ebdb9961",
   "metadata": {},
   "source": [
    "The example code below shows how to instantiate a DataPlayer object from the plotter Python package and use it to play back and visualize a set of data in an IPython notebook.\n",
    "\n",
    "By default, the output is generated directly below the code cell and the height of the output cell is 650px. These settings can be adjusted by passing in parameters when instantiating the DataPlayer object. For example, *player = DataPlayer(mode='jupyterlab')* generates the output in a separate tab in JupyterLab instead of directly below the code cell. The available parameters of DataPlayer are listed below.\n",
    "\n",
    "**minimum** (default = 1)<br/>\n",
    "&emsp;This parameter is for setting the minimum playback index/timestamp.\n",
    "\n",
    "**maximum** (default = 1)<br/>\n",
    "&emsp;This parameter is for setting the maximum playback index/timestamp.\n",
    "\n",
    "**interval** (default = 50)<br/>\n",
    "&emsp;This parameter is for setting the step interval in milliseconds of the playback sequence.\n",
    "\n",
    "**callback** (default = None)<br/>\n",
    "&emsp;This parameter is a callback function that gets triggered at each step of the playback sequence. The function is called with an index/timestamp input.\n",
    "\n",
    "**mode** (default = 'inline')<br/>\n",
    "&emsp;'inline' - Generate output directly below code cell<br/>\n",
    "&emsp;'jupyterlab' - Generate output in separate tab in JupyterLab<br/>\n",
    "&emsp;'external' - Generate hyperlink for displaying output in separate browser tab\n",
    "\n",
    "**port** (default = 8050)<br/>\n",
    "&emsp;This parameter is for setting the port through which the output is served from the JupyterDash server running on the DSDK.\n",
    "\n",
    "**width** (default = '100%')<br/>\n",
    "&emsp;This parameter is for setting the width of the output cell.\n",
    "\n",
    "**height** (default = '650px')<br/>\n",
    "&emsp;This parameter is for setting the height of the output cell.\n",
    "\n",
    "To terminate the data playback session, go to the Kernel main menu and do Restart Kernel.\n",
    "<br/><br/>\n",
    "***\n",
    "**Note**: The plotter module makes use of JupyterDash, which by default is served from the DSDK through port 8050. This means that in order for data playback to work, the \"adb forward\" command (e.g. \"adb forward tcp:8050 tcp:8050\" for port 8050) needs to be issued first from the host computer this browser is running on.<br/>\n",
    "**Note**: It is recommended to use either Firefox or Sarafi for running this data playback feature.\n",
    "***"
   ]
  },
  {
   "cell_type": "code",
   "execution_count": null,
   "id": "c4cd125f-cc51-41ba-a8fb-bdd7da2cf432",
   "metadata": {},
   "outputs": [],
   "source": [
    "import import_ipynb\n",
    "from plotter import DataPlayer\n",
    "\n",
    "minimum = 1\n",
    "maximum = 100\n",
    "data = [x for x in range(minimum, maximum+1)]\n",
    "\n",
    "def callback(v):\n",
    "    print(data[v], end=\" \")\n",
    "\n",
    "try:\n",
    "    player = DataPlayer(minimum=0, maximum=len(data)-1, callback=callback, height=\"120px\")\n",
    "    player.run()\n",
    "except Exception as e:\n",
    "    print(e)\n"
   ]
  }
 ],
 "metadata": {
  "kernelspec": {
   "display_name": "Python 3 (ipykernel)",
   "language": "python",
   "name": "python3"
  },
  "language_info": {
   "codemirror_mode": {
    "name": "ipython",
    "version": 3
   },
   "file_extension": ".py",
   "mimetype": "text/x-python",
   "name": "python",
   "nbconvert_exporter": "python",
   "pygments_lexer": "ipython3",
   "version": "3.7.3"
  }
 },
 "nbformat": 4,
 "nbformat_minor": 5
}
