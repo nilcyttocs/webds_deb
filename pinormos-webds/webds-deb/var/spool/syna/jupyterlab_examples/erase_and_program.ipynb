{
 "cells": [
  {
   "cell_type": "markdown",
   "id": "94ffeb1e-d61f-4bd6-b731-f835c9269370",
   "metadata": {},
   "source": [
    "The example code below shows how to use the AsicProgrammer Python module to carry out erase and program on the connected TouchComm device using the specified hex file (/home/dsdkuser/margaret/workspace/th2493_i2c/th2493_i2c.hex)."
   ]
  },
  {
   "cell_type": "code",
   "execution_count": null,
   "id": "020a93ef-ea91-42c0-b7c6-9bd8136c0987",
   "metadata": {},
   "outputs": [],
   "source": [
    "from programmer import AsicProgrammer\n",
    "\n",
    "hex_file = '/home/dsdkuser/margaret/workspace/th2493_i2c/th2493_i2c.hex'\n",
    "AsicProgrammer.programHexFile(hex_file, communication='socket', server='localhost')"
   ]
  }
 ],
 "metadata": {
  "kernelspec": {
   "display_name": "Python 3 (ipykernel)",
   "language": "python",
   "name": "python3"
  },
  "language_info": {
   "codemirror_mode": {
    "name": "ipython",
    "version": 3
   },
   "file_extension": ".py",
   "mimetype": "text/x-python",
   "name": "python",
   "nbconvert_exporter": "python",
   "pygments_lexer": "ipython3",
   "version": "3.7.3"
  }
 },
 "nbformat": 4,
 "nbformat_minor": 5
}
