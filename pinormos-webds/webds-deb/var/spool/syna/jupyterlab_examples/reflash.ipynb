{
 "cells": [
  {
   "cell_type": "markdown",
   "id": "83b9cb6d-c397-4f54-918b-cbb3bcd92c0b",
   "metadata": {},
   "source": [
    "The example code below shows how to instantiate a TouchComm object and use it to carry out reflash on the connected TouchComm device. This example assumes that the image file to use is placed within the packrat cache directory (/home/dsdkuser/jupyter/workspace/Packrat/3365253/PR3365253.img) and makes use of a PackratCache object to locate the image file. The specified packrat cache directory (/home/dsdkuser/jupyter/workspace/Packrat) is the /Packrat directory in the file browser in the left sidebar."
   ]
  },
  {
   "cell_type": "code",
   "execution_count": null,
   "id": "e7c4afee-c422-46af-a08a-804f18f59026",
   "metadata": {},
   "outputs": [],
   "source": [
    "from touchcomm import TouchComm\n",
    "from packratutils import PackratCache\n",
    "\n",
    "with TouchComm.make('report_streamer', server='localhost') as tc:\n",
    "    pr = PackratCache(3365253, cache_path=r'/home/dsdkuser/jupyter/workspace/Packrat')\n",
    "    tc.reflashImageFile(pr.get_img())\n",
    "    id = tc.runApplicationFirmware()\n",
    "    print(id)"
   ]
  },
  {
   "cell_type": "markdown",
   "id": "38d54e7e-cf75-40c5-841e-9021f651dadf",
   "metadata": {},
   "source": [
    "The example code below shows how to specify the full path to the image file to use for reflash instead of making use of a PackratCache object."
   ]
  },
  {
   "cell_type": "code",
   "execution_count": null,
   "id": "0d302f1e-c8f8-4581-8010-800b02c81b82",
   "metadata": {},
   "outputs": [],
   "source": [
    "from touchcomm import TouchComm\n",
    "\n",
    "with TouchComm.make('report_streamer', server='localhost') as tc:\n",
    "    img_file = '/home/dsdkuser/jupyter/workspace/Packrat/3365253/PR3365253.img'\n",
    "    tc.reflashImageFile(img_file)\n",
    "    id = tc.runApplicationFirmware()\n",
    "    print(id)"
   ]
  }
 ],
 "metadata": {
  "kernelspec": {
   "display_name": "Python 3 (ipykernel)",
   "language": "python",
   "name": "python3"
  },
  "language_info": {
   "codemirror_mode": {
    "name": "ipython",
    "version": 3
   },
   "file_extension": ".py",
   "mimetype": "text/x-python",
   "name": "python",
   "nbconvert_exporter": "python",
   "pygments_lexer": "ipython3",
   "version": "3.7.3"
  }
 },
 "nbformat": 4,
 "nbformat_minor": 5
}
