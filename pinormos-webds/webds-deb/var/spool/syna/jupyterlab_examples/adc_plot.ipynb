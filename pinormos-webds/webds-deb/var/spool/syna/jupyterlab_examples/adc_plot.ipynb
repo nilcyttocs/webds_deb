{
 "cells": [
  {
   "cell_type": "markdown",
   "id": "53932210-3ba5-4363-9b3e-cfa887dcf64a",
   "metadata": {},
   "source": [
    "The example code below shows how to instantiate an ADCPlotter object from the plotter Python package and use it to perform real-time plotting of ADC data in an IPython notebook.\n",
    "\n",
    "By default, the plot is generated directly below the code cell and the color scale used is 'Viridis'. These settings can be adjusted by passing in parameters when instantiating the ADCPlotter object. For example, *plotter = ADCPlotter(mode='jupyterlab')* generates the plot in a separate tab in JupyterLab instead of directly below the code cell. The available parameters of ADCPlotter are listed below.\n",
    "\n",
    "**mode** (default = 'inline')<br/>\n",
    "&emsp;'inline' - Generate plot directly below code cell<br/>\n",
    "&emsp;'jupyterlab' - Generate plot in separate tab in JupyterLab<br/>\n",
    "&emsp;'external' - Generate hyperlink for displaying plot in separate browser tab\n",
    "\n",
    "**port** (default = 8050)<br/>\n",
    "&emsp;This parameter is for setting the port through which this plot is served from the JupyterDash server running on the DSDK.\n",
    "\n",
    "**width** (default = '100%')<br/>\n",
    "&emsp;This parameter is for setting the width of the output cell containing the plot.\n",
    "\n",
    "**height** (default = '650px')<br/>\n",
    "&emsp;This parameter is for setting the height of the output cell containing the plot.\n",
    "\n",
    "**color_scale** (default = 'Viridis')<br/>\n",
    "&emsp;This parameter is for setting the color scale used for the image heatmap. A full listing of the supported color scales can be found at https://plotly.com/python/builtin-colorscales/.\n",
    "\n",
    "To terminate the plotting session, go to the Kernel main menu and do Interrupt Kernel and Restart Kernel. This triggers the KeyboardInterrupt exception shown at the bottom of the example code and allows the plotter module to be used in other IPython notebooks for real-time plotting.\n",
    "<br/><br/>\n",
    "***\n",
    "**Note**: The plotter module makes use of JupyterDash, which by default is served from the DSDK through port 8050. This means that in order for plotting to work, the \"adb forward\" command (e.g. \"adb forward tcp:8050 tcp:8050\" for port 8050) needs to be issued first from the host computer this browser is running on.<br/>\n",
    "**Note**: It is recommended to use either Firefox or Sarafi for running this real-time plotting feature from within an IPython notebook.\n",
    "***"
   ]
  },
  {
   "cell_type": "code",
   "execution_count": null,
   "id": "7b75db79-d907-4788-97ef-40a420cbd8a4",
   "metadata": {},
   "outputs": [],
   "source": [
    "import sys\n",
    "import time\n",
    "import import_ipynb\n",
    "from plotter import ADCPlotter\n",
    "from touchcomm import TouchComm\n",
    "\n",
    "fps = 60\n",
    "period = 1/fps\n",
    "\n",
    "with TouchComm.make('report_streamer', streaming=False) as tc:\n",
    "    tc.reset()\n",
    "    tc.disableReport(17)\n",
    "    tc.enableReport(18)\n",
    "\n",
    "    try:\n",
    "        plotter = ADCPlotter()\n",
    "        plotter.run_plot()\n",
    "        while True:\n",
    "            plotter.update_plot(tc.getReport())\n",
    "            time.sleep(period)\n",
    "    except KeyboardInterrupt:\n",
    "        pass\n",
    "    except Exception as e:\n",
    "        print(e)\n",
    "    finally:\n",
    "        if plotter is not None:\n",
    "            plotter.stop_plot()\n"
   ]
  }
 ],
 "metadata": {
  "kernelspec": {
   "display_name": "Python 3 (ipykernel)",
   "language": "python",
   "name": "python3"
  },
  "language_info": {
   "codemirror_mode": {
    "name": "ipython",
    "version": 3
   },
   "file_extension": ".py",
   "mimetype": "text/x-python",
   "name": "python",
   "nbconvert_exporter": "python",
   "pygments_lexer": "ipython3",
   "version": "3.7.3"
  }
 },
 "nbformat": 4,
 "nbformat_minor": 5
}
