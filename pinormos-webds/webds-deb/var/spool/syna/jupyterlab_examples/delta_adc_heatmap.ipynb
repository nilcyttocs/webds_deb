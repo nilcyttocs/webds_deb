{
 "cells": [
  {
   "cell_type": "markdown",
   "id": "53932210-3ba5-4363-9b3e-cfa887dcf64a",
   "metadata": {},
   "source": [
    "The example code below shows how to instantiate a HeatmapPlotter object from the plotter module and use it to perform real-time heatmap plotting of the delta ADC image.\n",
    "\n",
    "By default, the plot is generated directly below the code cell and the color scale used is 'Viridis'. These settings can be adjusted by passing in parameters when instantiating the HeatmapPlotter object. For example, *plotter = HeatmapPlotter(mode='jupyterlab')* generates the plot in a separate tab in JupyterLab instead of directly below the code cell. The available parameters are listed below.\n",
    "\n",
    "**mode** (default = 'inline')<br/>\n",
    "&emsp;'inline' - Generate plot directly below code cell<br/>\n",
    "&emsp;'jupyterlab' - Generate plot in separate tab in JupyterLab<br/>\n",
    "&emsp;'external' - Generate hyperlink for displaying plot in separate browser tab\n",
    "\n",
    "**colorscale** (default = 'Viridis')<br/>\n",
    "&emsp;A full listing of the supported color scales can be found at https://plotly.com/python/builtin-colorscales/.\n",
    "\n",
    "**plotscale** (default = 20)<br/>\n",
    "&emsp;This is a pixel-based multiplier applied to the numbers of rows and columns of the image to determine the size of the plot.\n",
    "\n",
    "To terminate the plotting session, go to the Kernel main menu and do Interrupt Kernel. This triggers the KeyboardInterrupt exception shown at the bottom of the example code.\n",
    "<br/><br/>\n",
    "***\n",
    "**Note**: The plotter module makes use of JupyterDash, which is served from the DSDK through port 8050. This means that in order for plotting to work, the \"adb forward tcp:8050 tcp:8050\" command needs to be issued first from the host computer this browser is running on.\n",
    "***"
   ]
  },
  {
   "cell_type": "code",
   "execution_count": null,
   "id": "7b75db79-d907-4788-97ef-40a420cbd8a4",
   "metadata": {},
   "outputs": [],
   "source": [
    "import sys\n",
    "import time\n",
    "import import_ipynb\n",
    "from plotter import HeatmapPlotter\n",
    "from touchcomm import TouchComm\n",
    "\n",
    "fps = 60\n",
    "period = 1/fps\n",
    "\n",
    "tcm = TouchComm.make('report_streamer', streaming=False)\n",
    "if (tcm):\n",
    "    tcm.reset()\n",
    "    tcm.disableReport(17)\n",
    "    tcm.enableReport(18)\n",
    "else:\n",
    "    sys.exit(1)\n",
    "\n",
    "try:\n",
    "    plotter = HeatmapPlotter()\n",
    "except Exception as e:\n",
    "    tcm.close()\n",
    "    sys.exit(e)\n",
    "\n",
    "try:\n",
    "    plotter.run_plot()\n",
    "    while True:\n",
    "        report = tcm.getReport()\n",
    "        if ('delta' in report or 'raw' in report):\n",
    "            image = report[1]['image']\n",
    "            plotter.update_plot(image)\n",
    "        time.sleep(period)\n",
    "except KeyboardInterrupt:\n",
    "    plotter.stop_plot()\n",
    "finally:\n",
    "    tcm.close()\n"
   ]
  }
 ],
 "metadata": {
  "kernelspec": {
   "display_name": "Python 3 (ipykernel)",
   "language": "python",
   "name": "python3"
  },
  "language_info": {
   "codemirror_mode": {
    "name": "ipython",
    "version": 3
   },
   "file_extension": ".py",
   "mimetype": "text/x-python",
   "name": "python",
   "nbconvert_exporter": "python",
   "pygments_lexer": "ipython3",
   "version": "3.7.3"
  }
 },
 "nbformat": 4,
 "nbformat_minor": 5
}
