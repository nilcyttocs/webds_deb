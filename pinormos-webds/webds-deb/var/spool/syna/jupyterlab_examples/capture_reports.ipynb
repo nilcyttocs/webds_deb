{
 "cells": [
  {
   "cell_type": "markdown",
   "id": "f08d6bec-5897-4bb6-baa1-98b650ee0020",
   "metadata": {},
   "source": [
    "The example code below shows how to instantiate a TouchComm object and use it to capture TouchComm reports of a specified report ID. Reports are captured for a specified period of time and placed in a list. The captured reports are also written to a file in the JupyterLab workspace (/captured_reports.log in the file browser in the left sidebar) if save_output_to_file is set to True.\n",
    "\n",
    "The interfaces parameter of the TouchComm object is set to ['phone', 'i2c', 'spi'] to give priority to Android phone connection when performing TCM driver auto-detection.\n",
    "\n",
    "The resetOnConnect parameter of the TouchComm object is set to False to prevent a reset from being sent to the TouchComm device on connection. This is especially desirable when connecting to an Android phone so that the FW configuration on the TouchComm device as set up by the TCM driver can be retained."
   ]
  },
  {
   "cell_type": "code",
   "execution_count": null,
   "id": "09971d28-e949-49ab-8a6b-ec4e62a0d80b",
   "metadata": {},
   "outputs": [],
   "source": [
    "import time\n",
    "from touchcomm import TouchComm\n",
    "\n",
    "report_id = 18\n",
    "time_period = 5\n",
    "\n",
    "save_output_to_file = True\n",
    "output_file = 'captured_reports.log'\n",
    "workspace = '/home/dsdkuser/jupyter/workspace/'\n",
    "\n",
    "with TouchComm.make('report_streamer', server='localhost', interfaces=['phone', 'i2c', 'spi'], resetOnConnect=False) as tc:\n",
    "    report = {}\n",
    "    reports = []\n",
    "    tc.disableReport(17)\n",
    "    tc.enableReport(report_id)\n",
    "    t0 = time.time()\n",
    "    t1 = time.time()\n",
    "    while (t1 - t0 < time_period):\n",
    "        report = tc.getReport()\n",
    "        reports.append(report)\n",
    "        t1 = time.time()\n",
    "    tc.disableReport(report_id)\n",
    "    tc.enableReport(17)\n",
    "    print('Total number of reports = %d' % (len(reports)))\n",
    "    print('FPS = %0.1f' % (len(reports) / time_period))\n",
    "    print(reports[-1])\n",
    "    if save_output_to_file:\n",
    "        with open(workspace + output_file, 'w') as file:\n",
    "            report_num = 1\n",
    "            for report in reports:\n",
    "                file.write(\"Report %s\\n%s\\n\\n\" % (report_num, report))\n",
    "                report_num += 1"
   ]
  }
 ],
 "metadata": {
  "kernelspec": {
   "display_name": "Python 3 (ipykernel)",
   "language": "python",
   "name": "python3"
  },
  "language_info": {
   "codemirror_mode": {
    "name": "ipython",
    "version": 3
   },
   "file_extension": ".py",
   "mimetype": "text/x-python",
   "name": "python",
   "nbconvert_exporter": "python",
   "pygments_lexer": "ipython3",
   "version": "3.7.3"
  }
 },
 "nbformat": 4,
 "nbformat_minor": 5
}
