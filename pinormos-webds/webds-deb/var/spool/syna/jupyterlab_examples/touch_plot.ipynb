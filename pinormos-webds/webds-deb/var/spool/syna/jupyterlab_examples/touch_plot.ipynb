{
 "cells": [
  {
   "cell_type": "markdown",
   "id": "53932210-3ba5-4363-9b3e-cfa887dcf64a",
   "metadata": {},
   "source": [
    "The example code below shows how to instantiate a TouchPlotter object from the plotter module and use it to perform real-time plotting of touch data in an IPython notebook.\n",
    "\n",
    "By default, the plot is generated directly below the code cell and provides a view of finger positions. These settings can be adjusted by passing in parameters when instantiating the TouchPlotter object. For example, *plotter = TouchPlotter(mode='jupyterlab')* generates the plot in a separate tab in JupyterLab instead of directly below the code cell. With TouchPlotter, two of the parameters are mandatory, namely max_x and max_y. The values of these two parameters represent the maximum X and Y coordinate values of touch data and can be extracted from the Application Info packet. The available parameters of TouchPlotter are listed below.\n",
    "\n",
    "**mode** (default = 'inline')<br/>\n",
    "&emsp;'inline' - Generate plot directly below code cell<br/>\n",
    "&emsp;'jupyterlab' - Generate plot in separate tab in JupyterLab<br/>\n",
    "&emsp;'external' - Generate hyperlink for displaying plot in separate browser tab\n",
    "\n",
    "**port** (default = 8050)<br/>\n",
    "&emsp;This parameter is for setting the port through which this plot is served from the JupyterDash server running on the DSDK.\n",
    "\n",
    "**view** (default = 'position')<br/>\n",
    "&emsp;'position' - Display finger positions in plot<br/>\n",
    "&emsp;'trace' - Display finger traces in plot<br/>\n",
    "\n",
    "**max_x** (<span style='color:#007dc3 '>*mandatory*</span>)<br/>\n",
    "&emsp;This parameter represents the maximum X coordinate value of touch data.\n",
    "\n",
    "**max_y** (<span style='color:#007dc3 '>*mandatory*</span>)<br/>\n",
    "&emsp;This parameter represents the maximum Y coordinate value of touch data.\n",
    "\n",
    "**plot_scale** (default = 1)<br/>\n",
    "&emsp;This parameter is a scale factor for determining the size of the plot.\n",
    "\n",
    "TouchPlotter relies on the availability of the private config JSON file for the firmware on the target TouchComm device for its plotting functionality. To make the private config JSON file available to TouchPlotter, it can be placed inside the Packrat directory in the file browser in the left sidebar. For example, for PR1234567, the location for the private config JSON file is /Packrat/1234567/config_private.json.\n",
    "\n",
    "To terminate the plotting session, go to the Kernel main menu and do Interrupt Kernel and Restart Kernel. This triggers the KeyboardInterrupt exception shown at the bottom of the example code and allows the plotter module to be used in other IPython notebooks for real-time plotting.\n",
    "<br/><br/>\n",
    "***\n",
    "**Note**: The plotter module makes use of JupyterDash, which by default is served from the DSDK through port 8050. This means that in order for plotting to work, the \"adb forward\" command (e.g. \"adb forward tcp:8050 tcp:8050\" for port 8050) needs to be issued first from the host computer this browser is running on.<br/>\n",
    "**Note**: It is recommended to use either Firefox or Sarafi for running this real-time plotting feature from within an IPython notebook.\n",
    "***"
   ]
  },
  {
   "cell_type": "code",
   "execution_count": null,
   "id": "7b75db79-d907-4788-97ef-40a420cbd8a4",
   "metadata": {},
   "outputs": [],
   "source": [
    "import sys\n",
    "import time\n",
    "import import_ipynb\n",
    "from plotter import TouchPlotter\n",
    "from touchcomm import TouchComm\n",
    "\n",
    "fps = 60\n",
    "period = 1/fps\n",
    "\n",
    "with TouchComm.make('report_streamer', streaming=False) as tc:\n",
    "    tc.reset()\n",
    "    app_info = tc.getAppInfo()\n",
    "    max_x = app_info['maxX']\n",
    "    max_y = app_info['maxY']\n",
    "    tc.enableReport(17)\n",
    "\n",
    "    try:\n",
    "        plotter = TouchPlotter(max_x=max_x, max_y=max_y)\n",
    "        plotter.run_plot()\n",
    "        while True:\n",
    "            plotter.update_plot(tc.getReport())\n",
    "            time.sleep(period)\n",
    "    except KeyboardInterrupt:\n",
    "        pass\n",
    "    except Exception as e:\n",
    "        print(e)\n",
    "    finally:\n",
    "        if plotter is not None:\n",
    "            plotter.stop_plot()\n"
   ]
  }
 ],
 "metadata": {
  "kernelspec": {
   "display_name": "Python 3 (ipykernel)",
   "language": "python",
   "name": "python3"
  },
  "language_info": {
   "codemirror_mode": {
    "name": "ipython",
    "version": 3
   },
   "file_extension": ".py",
   "mimetype": "text/x-python",
   "name": "python",
   "nbconvert_exporter": "python",
   "pygments_lexer": "ipython3",
   "version": "3.7.3"
  }
 },
 "nbformat": 4,
 "nbformat_minor": 5
}
