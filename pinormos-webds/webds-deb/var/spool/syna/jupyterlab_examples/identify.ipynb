{
 "cells": [
  {
   "cell_type": "markdown",
   "id": "76620059-10de-4bb7-bdda-8ecfd06845dd",
   "metadata": {},
   "source": [
    "The example code below shows how to instantiate a TouchComm object and send an IDENTIFY command to the connected TouchComm device to retrieve the identify packet."
   ]
  },
  {
   "cell_type": "code",
   "execution_count": null,
   "id": "2ee9c0af-fd71-4903-9903-677c2c932e81",
   "metadata": {},
   "outputs": [],
   "source": [
    "from touchcomm import TouchComm\n",
    "\n",
    "with TouchComm.make('report_streamer', server='localhost') as tc:\n",
    "    id = tc.identify()\n",
    "    print(id)"
   ]
  }
 ],
 "metadata": {
  "kernelspec": {
   "display_name": "Python 3 (ipykernel)",
   "language": "python",
   "name": "python3"
  },
  "language_info": {
   "codemirror_mode": {
    "name": "ipython",
    "version": 3
   },
   "file_extension": ".py",
   "mimetype": "text/x-python",
   "name": "python",
   "nbconvert_exporter": "python",
   "pygments_lexer": "ipython3",
   "version": "3.7.3"
  }
 },
 "nbformat": 4,
 "nbformat_minor": 5
}
